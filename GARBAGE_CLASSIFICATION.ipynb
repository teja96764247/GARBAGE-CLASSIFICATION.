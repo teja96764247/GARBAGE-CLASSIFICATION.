{
  "nbformat": 4,
  "nbformat_minor": 0,
  "metadata": {
    "colab": {
      "provenance": [],
      "gpuType": "T4"
    },
    "kernelspec": {
      "name": "python3",
      "display_name": "Python 3"
    },
    "language_info": {
      "name": "python"
    },
    "accelerator": "GPU"
  },
  "cells": [
    {
      "cell_type": "code",
      "execution_count": 1,
      "metadata": {
        "id": "X9sH5VE3ra0N"
      },
      "outputs": [],
      "source": [
        "!mkdir -p ~/.kaggle\n",
        "!cp kaggle.json ~/.kaggle/\n",
        "!chmod 600 ~/.kaggle/kaggle.json"
      ]
    },
    {
      "cell_type": "code",
      "source": [
        "!kaggle datasets download -d mostafaabla/garbage-classification"
      ],
      "metadata": {
        "colab": {
          "base_uri": "https://localhost:8080/"
        },
        "id": "I3OWAfWRrgXJ",
        "outputId": "142dca9f-dcf7-4dd6-df3d-6f2f57b5afe0"
      },
      "execution_count": 2,
      "outputs": [
        {
          "output_type": "stream",
          "name": "stdout",
          "text": [
            "Downloading garbage-classification.zip to /content\n",
            " 99% 237M/239M [00:01<00:00, 129MB/s]\n",
            "100% 239M/239M [00:01<00:00, 126MB/s]\n"
          ]
        }
      ]
    },
    {
      "cell_type": "code",
      "source": [
        "from zipfile import ZipFile\n",
        "dataset = '/content/garbage-classification.zip'\n",
        "\n",
        "with ZipFile(dataset,'r') as zip:\n",
        "  zip.extractall()\n",
        "  print('The dataset is extracted')"
      ],
      "metadata": {
        "colab": {
          "base_uri": "https://localhost:8080/"
        },
        "id": "7Ku7EshKrke-",
        "outputId": "04276628-202a-41f7-dd36-5a6a5f484b50"
      },
      "execution_count": 3,
      "outputs": [
        {
          "output_type": "stream",
          "name": "stdout",
          "text": [
            "The dataset is extracted\n"
          ]
        }
      ]
    },
    {
      "cell_type": "code",
      "source": [
        "import numpy as np\n",
        "import pandas as pd\n",
        "import matplotlib.pyplot as plt\n",
        "import os\n",
        "import cv2\n",
        "from PIL import Image\n",
        "from google.colab.patches import cv2_imshow"
      ],
      "metadata": {
        "id": "4lRZ8emqrkiq"
      },
      "execution_count": 4,
      "outputs": []
    },
    {
      "cell_type": "code",
      "source": [
        "garbage_folder=os.listdir('/content/garbage_classification')\n",
        "print(garbage_folder)\n",
        "print(len(garbage_folder))"
      ],
      "metadata": {
        "colab": {
          "base_uri": "https://localhost:8080/"
        },
        "id": "wVv6FNcur13f",
        "outputId": "79effd86-1359-49d0-f487-e8632deba2b2"
      },
      "execution_count": 5,
      "outputs": [
        {
          "output_type": "stream",
          "name": "stdout",
          "text": [
            "['brown-glass', 'paper', 'cardboard', 'metal', 'green-glass', 'clothes', 'plastic', 'trash', 'white-glass', 'shoes', 'battery', 'biological']\n",
            "12\n"
          ]
        }
      ]
    },
    {
      "cell_type": "code",
      "source": [
        "data=[]"
      ],
      "metadata": {
        "id": "CG_SuZRutQ4c"
      },
      "execution_count": 6,
      "outputs": []
    },
    {
      "cell_type": "code",
      "source": [
        "for i in range(12):\n",
        "  folder_path='/content/garbage_classification/'+garbage_folder[i]\n",
        "  img_folder=os.listdir(folder_path)\n",
        "  l=len(img_folder)\n",
        "  for j in range(l):\n",
        "    img_path=folder_path+'/'+img_folder[j]\n",
        "    img_pillow=Image.open(img_path)\n",
        "    img_color=img_pillow.convert('RGB')\n",
        "    img_resize=img_color.resize((64,64))\n",
        "    img_arr=np.array(img_resize)\n",
        "    data.append([img_arr,i])"
      ],
      "metadata": {
        "id": "xKOOH9rgsEUP"
      },
      "execution_count": 7,
      "outputs": []
    },
    {
      "cell_type": "code",
      "source": [
        "x=[]\n",
        "y=[]\n",
        "for i,j in data:\n",
        "  x.append(i)\n",
        "  y.append(j)"
      ],
      "metadata": {
        "id": "0v4oORt4s0f4"
      },
      "execution_count": 8,
      "outputs": []
    },
    {
      "cell_type": "code",
      "source": [
        "cv2_imshow(x[0])"
      ],
      "metadata": {
        "colab": {
          "base_uri": "https://localhost:8080/",
          "height": 81
        },
        "id": "38cWkRquteIl",
        "outputId": "1257f08c-d00f-4f2b-99c5-fbf62deaf6b1"
      },
      "execution_count": 9,
      "outputs": [
        {
          "output_type": "display_data",
          "data": {
            "text/plain": [
              "<PIL.Image.Image image mode=RGB size=64x64>"
            ],
            "image/png": "[encoded data removed]"
          },
          "metadata": {}
        }
      ]
    },
    {
      "cell_type": "code",
      "source": [
        "y[0]"
      ],
      "metadata": {
        "colab": {
          "base_uri": "https://localhost:8080/"
        },
        "id": "cWjdWhlltiIV",
        "outputId": "2b377551-008a-48ad-b894-039c12164f20"
      },
      "execution_count": 10,
      "outputs": [
        {
          "output_type": "execute_result",
          "data": {
            "text/plain": [
              "0"
            ]
          },
          "metadata": {},
          "execution_count": 10
        }
      ]
    },
    {
      "cell_type": "code",
      "source": [
        "import random\n",
        "random.shuffle(data)"
      ],
      "metadata": {
        "id": "6hyUi9fDti8t"
      },
      "execution_count": 11,
      "outputs": []
    },
    {
      "cell_type": "code",
      "source": [
        "x1=[]\n",
        "y1=[]\n",
        "for i,j in data:\n",
        "  x1.append(i)\n",
        "  y1.append(j)"
      ],
      "metadata": {
        "id": "s6T4k5CDtqlF"
      },
      "execution_count": 12,
      "outputs": []
    },
    {
      "cell_type": "code",
      "source": [
        "x=np.array(x1)\n",
        "y=np.array(y1)"
      ],
      "metadata": {
        "id": "kJbd7mHquK0L"
      },
      "execution_count": 13,
      "outputs": []
    },
    {
      "cell_type": "code",
      "source": [
        "from sklearn.model_selection import train_test_split\n",
        "x_train,x_test,y_train,y_test=train_test_split(x,y,test_size=0.2,random_state=0)"
      ],
      "metadata": {
        "id": "UbVC0X4Qt0ut"
      },
      "execution_count": 14,
      "outputs": []
    },
    {
      "cell_type": "code",
      "source": [
        "x_train_scaled=x_train/255\n",
        "x_test_scaled=x_test/255"
      ],
      "metadata": {
        "id": "54xnE0ECuD5-"
      },
      "execution_count": 15,
      "outputs": []
    },
    {
      "cell_type": "code",
      "source": [
        "cv2_imshow(x_train[0])"
      ],
      "metadata": {
        "colab": {
          "base_uri": "https://localhost:8080/",
          "height": 81
        },
        "id": "CjN81y0XuJBO",
        "outputId": "17053ea7-31d7-48d9-9ba2-c99a23bed195"
      },
      "execution_count": 16,
      "outputs": [
        {
          "output_type": "display_data",
          "data": {
            "text/plain": [
              "<PIL.Image.Image image mode=RGB size=64x64>"
            ],
            "image/png": "[encoded data removed]"
          },
          "metadata": {}
        }
      ]
    },
    {
      "cell_type": "code",
      "source": [
        "max(y_train)"
      ],
      "metadata": {
        "colab": {
          "base_uri": "https://localhost:8080/"
        },
        "id": "S2hH-tbWvOQ_",
        "outputId": "21abcbfb-6dc2-4cfd-be36-3e2a038c6b1a"
      },
      "execution_count": 17,
      "outputs": [
        {
          "output_type": "execute_result",
          "data": {
            "text/plain": [
              "11"
            ]
          },
          "metadata": {},
          "execution_count": 17
        }
      ]
    },
    {
      "cell_type": "code",
      "source": [
        "import tensorflow as tf\n",
        "from tensorflow import keras"
      ],
      "metadata": {
        "id": "Yv4JSXnhuWt-"
      },
      "execution_count": 18,
      "outputs": []
    },
    {
      "cell_type": "code",
      "source": [
        "num_of_classes=12\n",
        "model=keras.Sequential()\n",
        "\n",
        "model.add(keras.layers.Conv2D(32,kernel_size=(3,3),activation='relu',input_shape=(64,64,3)))\n",
        "model.add(keras.layers.MaxPooling2D(pool_size=(2,2)))\n",
        "\n",
        "model.add(keras.layers.Conv2D(64,kernel_size=(3,3),activation='relu'))\n",
        "model.add(keras.layers.MaxPooling2D(pool_size=(2,2)))\n",
        "\n",
        "model.add(keras.layers.Flatten())\n",
        "\n",
        "model.add(keras.layers.Dense(128,activation='relu'))\n",
        "model.add(keras.layers.Dropout(0.5))\n",
        "\n",
        "model.add(keras.layers.Dense(64,activation='relu'))\n",
        "model.add(keras.layers.Dropout(0.5))\n",
        "\n",
        "model.add(keras.layers.Dense(num_of_classes,activation='softmax'))"
      ],
      "metadata": {
        "id": "2kTa5sU7ugcF"
      },
      "execution_count": 19,
      "outputs": []
    },
    {
      "cell_type": "code",
      "source": [
        "model.compile(optimizer='adam',loss='sparse_categorical_crossentropy',metrics=['accuracy'])"
      ],
      "metadata": {
        "id": "Ftks6yAIupSG"
      },
      "execution_count": 20,
      "outputs": []
    },
    {
      "cell_type": "code",
      "source": [
        "model.fit(x_train_scaled,y_train,epochs=20,validation_split=0.1)"
      ],
      "metadata": {
        "colab": {
          "base_uri": "https://localhost:8080/"
        },
        "id": "kY4DYm6GuzJ2",
        "outputId": "f2233fb3-fd6e-4fe0-f363-1a7894a216a5"
      },
      "execution_count": 23,
      "outputs": [
        {
          "output_type": "stream",
          "name": "stdout",
          "text": [
            "Epoch 1/20\n",
            "350/350 [==============================] - 2s 7ms/step - loss: 0.2440 - accuracy: 0.9216 - val_loss: 1.5070 - val_accuracy: 0.7520\n",
            "Epoch 2/20\n",
            "350/350 [==============================] - 2s 6ms/step - loss: 0.2467 - accuracy: 0.9226 - val_loss: 1.5868 - val_accuracy: 0.7625\n",
            "Epoch 3/20\n",
            "350/350 [==============================] - 2s 7ms/step - loss: 0.2344 - accuracy: 0.9244 - val_loss: 1.6965 - val_accuracy: 0.7110\n",
            "Epoch 4/20\n",
            "350/350 [==============================] - 4s 11ms/step - loss: 0.2415 - accuracy: 0.9238 - val_loss: 1.4934 - val_accuracy: 0.7472\n",
            "Epoch 5/20\n",
            "350/350 [==============================] - 4s 11ms/step - loss: 0.2352 - accuracy: 0.9239 - val_loss: 1.7393 - val_accuracy: 0.7472\n",
            "Epoch 6/20\n",
            "350/350 [==============================] - 2s 7ms/step - loss: 0.2419 - accuracy: 0.9243 - val_loss: 1.6630 - val_accuracy: 0.7319\n",
            "Epoch 7/20\n",
            "350/350 [==============================] - 2s 6ms/step - loss: 0.2415 - accuracy: 0.9260 - val_loss: 1.5961 - val_accuracy: 0.7544\n",
            "Epoch 8/20\n",
            "350/350 [==============================] - 2s 6ms/step - loss: 0.2291 - accuracy: 0.9268 - val_loss: 1.7635 - val_accuracy: 0.7359\n",
            "Epoch 9/20\n",
            "350/350 [==============================] - 3s 8ms/step - loss: 0.2435 - accuracy: 0.9246 - val_loss: 1.7121 - val_accuracy: 0.7295\n",
            "Epoch 10/20\n",
            "350/350 [==============================] - 3s 9ms/step - loss: 0.2202 - accuracy: 0.9287 - val_loss: 1.6449 - val_accuracy: 0.7375\n",
            "Epoch 11/20\n",
            "350/350 [==============================] - 3s 8ms/step - loss: 0.2472 - accuracy: 0.9252 - val_loss: 1.4939 - val_accuracy: 0.7560\n",
            "Epoch 12/20\n",
            "350/350 [==============================] - 3s 8ms/step - loss: 0.2478 - accuracy: 0.9249 - val_loss: 1.6945 - val_accuracy: 0.7593\n",
            "Epoch 13/20\n",
            "350/350 [==============================] - 3s 8ms/step - loss: 0.2388 - accuracy: 0.9258 - val_loss: 1.7338 - val_accuracy: 0.7448\n",
            "Epoch 14/20\n",
            "350/350 [==============================] - 3s 9ms/step - loss: 0.2250 - accuracy: 0.9275 - val_loss: 1.8552 - val_accuracy: 0.7351\n",
            "Epoch 15/20\n",
            "350/350 [==============================] - 3s 8ms/step - loss: 0.2102 - accuracy: 0.9346 - val_loss: 1.7578 - val_accuracy: 0.7399\n",
            "Epoch 16/20\n",
            "350/350 [==============================] - 2s 7ms/step - loss: 0.2093 - accuracy: 0.9309 - val_loss: 1.7540 - val_accuracy: 0.7367\n",
            "Epoch 17/20\n",
            "350/350 [==============================] - 2s 7ms/step - loss: 0.2293 - accuracy: 0.9258 - val_loss: 1.6929 - val_accuracy: 0.7424\n",
            "Epoch 18/20\n",
            "350/350 [==============================] - 2s 7ms/step - loss: 0.2235 - accuracy: 0.9303 - val_loss: 1.5122 - val_accuracy: 0.7375\n",
            "Epoch 19/20\n",
            "350/350 [==============================] - 3s 7ms/step - loss: 0.2105 - accuracy: 0.9312 - val_loss: 1.9409 - val_accuracy: 0.7383\n",
            "Epoch 20/20\n",
            "350/350 [==============================] - 3s 8ms/step - loss: 0.2141 - accuracy: 0.9315 - val_loss: 2.1165 - val_accuracy: 0.7536\n"
          ]
        },
        {
          "output_type": "execute_result",
          "data": {
            "text/plain": [
              "<keras.src.callbacks.History at 0x7c614c0f9a50>"
            ]
          },
          "metadata": {},
          "execution_count": 23
        }
      ]
    },
    {
      "cell_type": "code",
      "source": [
        "img_path='/content/garbage_classification/brown-glass/brown-glass1.jpg'\n",
        "img_pillow=Image.open(img_path)\n",
        "img_color=img_pillow.convert('RGB')\n",
        "img_resize=img_color.resize((64,64))\n",
        "img_arr=np.array(img_resize)\n",
        "cv2_imshow(img_arr)\n",
        "img_scaled=img_arr/255\n",
        "img_reshape=np.reshape(img_scaled,[1,64,64,3])\n",
        "prediction=model.predict(img_reshape)\n",
        "output=np.argmax(prediction)\n",
        "if(output==0):\n",
        "  print('The item is brown-glass')\n",
        "elif(output==1):\n",
        "  print('The item is paper')\n",
        "elif(output==2):\n",
        "  print('The item is cardboard')\n",
        "elif(output==3):\n",
        "  print('The item is metal')\n",
        "elif(output==4):\n",
        "  print('The item is green-glass')\n",
        "elif(output==5):\n",
        "  print('The item is clothes')\n",
        "elif(output==6):\n",
        "  print('The item is plastic')\n",
        "elif(output==7):\n",
        "  print('The item is trash')\n",
        "elif(output==8):\n",
        "  print('The item is white-glass')\n",
        "elif(output==9):\n",
        "  print('The item is shoes')\n",
        "elif(output==10):\n",
        "  print('The item is battery')\n",
        "elif(output==11):\n",
        "  print('The item is biological')\n"
      ],
      "metadata": {
        "colab": {
          "base_uri": "https://localhost:8080/",
          "height": 116
        },
        "id": "xLEooY6ru9A2",
        "outputId": "5820d726-c87d-409a-e5c8-e8991acb378f"
      },
      "execution_count": 62,
      "outputs": [
        {
          "output_type": "display_data",
          "data": {
            "text/plain": [
              "<PIL.Image.Image image mode=RGB size=64x64>"
            ],
            "image/png": "[encoded data removed]"
          },
          "metadata": {}
        },
        {
          "output_type": "stream",
          "name": "stdout",
          "text": [
            "1/1 [==============================] - 0s 29ms/step\n",
            "The item is brown-glass\n"
          ]
        }
      ]
    }
  ]
}